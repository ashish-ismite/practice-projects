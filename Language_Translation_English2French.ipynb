{
  "nbformat": 4,
  "nbformat_minor": 0,
  "metadata": {
    "colab": {
      "name": "Language Translation English2French.ipynb",
      "provenance": [],
      "collapsed_sections": []
    },
    "kernelspec": {
      "name": "python3",
      "display_name": "Python 3"
    },
    "language_info": {
      "name": "python"
    }
  },
  "cells": [
    {
      "cell_type": "code",
      "execution_count": null,
      "metadata": {
        "colab": {
          "base_uri": "https://localhost:8080/"
        },
        "id": "TXAH2xdAXD5d",
        "outputId": "eec1b04b-0cc9-4556-c989-3ac3583b07fc"
      },
      "outputs": [
        {
          "output_type": "stream",
          "name": "stdout",
          "text": [
            "--2022-02-24 08:27:45--  http://www.manythings.org/anki/fra-eng.zip\n",
            "Resolving www.manythings.org (www.manythings.org)... 172.67.186.54, 104.21.92.44, 2606:4700:3030::6815:5c2c, ...\n",
            "Connecting to www.manythings.org (www.manythings.org)|172.67.186.54|:80... connected.\n",
            "HTTP request sent, awaiting response... 200 OK\n",
            "Length: 6532197 (6.2M) [application/zip]\n",
            "Saving to: ‘fra-eng.zip’\n",
            "\n",
            "fra-eng.zip         100%[===================>]   6.23M  7.69MB/s    in 0.8s    \n",
            "\n",
            "2022-02-24 08:27:46 (7.69 MB/s) - ‘fra-eng.zip’ saved [6532197/6532197]\n",
            "\n"
          ]
        }
      ],
      "source": [
        "!wget http://www.manythings.org/anki/fra-eng.zip"
      ]
    },
    {
      "cell_type": "code",
      "source": [
        "!unzip fra-eng.zip"
      ],
      "metadata": {
        "colab": {
          "base_uri": "https://localhost:8080/"
        },
        "id": "FWqBRnPwdG0d",
        "outputId": "3ccdcaf7-01e1-40a6-af33-21a2d48bae4e"
      },
      "execution_count": null,
      "outputs": [
        {
          "output_type": "stream",
          "name": "stdout",
          "text": [
            "Archive:  fra-eng.zip\n",
            "  inflating: _about.txt              \n",
            "  inflating: fra.txt                 \n"
          ]
        }
      ]
    },
    {
      "cell_type": "code",
      "source": [
        "# Import Libraries\n",
        "from __future__ import print_function\n",
        "from keras.models import Model\n",
        "from keras.layers import Input,LSTM ,Dense\n",
        "import numpy as np"
      ],
      "metadata": {
        "id": "6X9iyiCya4s8"
      },
      "execution_count": null,
      "outputs": []
    },
    {
      "cell_type": "code",
      "source": [
        "batch_s = 64 #batch size for training\n",
        "epochs = 100 # No. of epochs to train for\n",
        "latent_dimension = 256 # Latent dimensionalityof the encoding space\n",
        "number_samples = 10000 # Number of samples to train on\n",
        "# Path to data text file on disk\n",
        "data_path = \"fra.txt\""
      ],
      "metadata": {
        "id": "TBAirCKWbUzI"
      },
      "execution_count": null,
      "outputs": []
    },
    {
      "cell_type": "code",
      "source": [
        "import pdb"
      ],
      "metadata": {
        "id": "hke6CSnieClL"
      },
      "execution_count": null,
      "outputs": []
    },
    {
      "cell_type": "code",
      "source": [
        "input_texts = []\n",
        "target_texts = []\n",
        "input_chars = set()\n",
        "target_chars = set()\n",
        "with open(data_path,'r',encoding='utf-8') as f:\n",
        "  lines = f.read().split('\\n')\n",
        "for line in lines[:min(number_samples,len(lines)-1)]:\n",
        "  input_text, target_text, _ = line.split('\\t')\n",
        "  target_text = '\\t'+target_text+'\\n'\n",
        "  input_texts.append(input_text)\n",
        "  target_texts.append(target_text)\n",
        "  for char in input_text:\n",
        "    if char not in input_chars:\n",
        "      input_chars.add(char)\n",
        "  for char in target_text:\n",
        "    if char not in target_chars:\n",
        "      target_chars.add(char)\n",
        "\n",
        "input_characters = sorted(list(input_chars))\n",
        "target_characters = sorted(list(target_chars))\n",
        "\n",
        "num_encoder_tokens = len(input_characters)\n",
        "num_decoder_tokens = len(target_characters)\n",
        "\n",
        "max_encoder_sequence_length = max([len(text) for text in input_texts])\n",
        "max_decoder_sequence_length = max([len(text) for text in target_texts])"
      ],
      "metadata": {
        "id": "06o7HWcWbz2r"
      },
      "execution_count": null,
      "outputs": []
    },
    {
      "cell_type": "code",
      "source": [
        "print(\"Input characters: \",input_characters)\n",
        "print('\\n')\n",
        "print(\"Target characters: \",target_characters)\n",
        "print('\\n')\n",
        "print(\"Input texts:\",input_texts[0:2])\n",
        "print('\\n')\n",
        "print(\"Target texts:\",target_texts[0:2])\n",
        "print('\\n')\n",
        "print(\"No. of chars from encoding language: \",num_encoder_tokens)\n",
        "print('\\n')\n",
        "print(\"No. of chars to decoded language: \",num_decoder_tokens)\n",
        "print('\\n')\n",
        "print(\"Max length of text in encoding language: \",max_encoder_sequence_length)\n",
        "print('\\n')\n",
        "print(\"Max length of text in decoding language: \",max_decoder_sequence_length)"
      ],
      "metadata": {
        "colab": {
          "base_uri": "https://localhost:8080/"
        },
        "id": "t-00tKQohrLi",
        "outputId": "ce2a39d3-a48b-4512-d32d-c468ae4cb2ae"
      },
      "execution_count": null,
      "outputs": [
        {
          "output_type": "stream",
          "name": "stdout",
          "text": [
            "Input characters:  [' ', '!', '\"', '$', '%', '&', \"'\", ',', '-', '.', '0', '1', '2', '3', '5', '7', '8', '9', ':', '?', 'A', 'B', 'C', 'D', 'E', 'F', 'G', 'H', 'I', 'J', 'K', 'L', 'M', 'N', 'O', 'P', 'Q', 'R', 'S', 'T', 'U', 'V', 'W', 'Y', 'a', 'b', 'c', 'd', 'e', 'f', 'g', 'h', 'i', 'j', 'k', 'l', 'm', 'n', 'o', 'p', 'q', 'r', 's', 't', 'u', 'v', 'w', 'x', 'y', 'z', 'é']\n",
            "\n",
            "\n",
            "Target characters:  ['\\t', '\\n', ' ', '!', '%', '&', \"'\", '(', ')', ',', '-', '.', '0', '1', '2', '3', '5', '8', '9', ':', '?', 'A', 'B', 'C', 'D', 'E', 'F', 'G', 'H', 'I', 'J', 'K', 'L', 'M', 'N', 'O', 'P', 'Q', 'R', 'S', 'T', 'U', 'V', 'Y', 'a', 'b', 'c', 'd', 'e', 'f', 'g', 'h', 'i', 'j', 'k', 'l', 'm', 'n', 'o', 'p', 'q', 'r', 's', 't', 'u', 'v', 'w', 'x', 'y', 'z', '\\xa0', '«', '»', 'À', 'Ç', 'É', 'Ê', 'à', 'â', 'ç', 'è', 'é', 'ê', 'î', 'ï', 'ô', 'ù', 'û', 'œ', '\\u2009', '’', '\\u202f']\n",
            "\n",
            "\n",
            "Input texts: ['Go.', 'Go.']\n",
            "\n",
            "\n",
            "Target texts: ['\\tVa !\\n', '\\tMarche.\\n']\n",
            "\n",
            "\n",
            "No. of chars from encoding language:  71\n",
            "\n",
            "\n",
            "No. of chars to decoded language:  92\n",
            "\n",
            "\n",
            "Max length of text in encoding language:  15\n",
            "\n",
            "\n",
            "Max length of text in decoding language:  59\n"
          ]
        }
      ]
    },
    {
      "cell_type": "code",
      "source": [
        "input_token_index = dict(\n",
        "    [(char,i) for i,char in enumerate(input_characters)]\n",
        ")\n",
        "target_token_index = dict(\n",
        "    [(char,i) for i,char in enumerate(target_characters)]\n",
        ")"
      ],
      "metadata": {
        "id": "mYA20J4Blivg"
      },
      "execution_count": null,
      "outputs": []
    },
    {
      "cell_type": "code",
      "source": [
        "encoder_input_data = np.zeros(\n",
        "    (len(input_texts),max_encoder_sequence_length,num_encoder_tokens),# matrix shape: rows=no. of texts to be passed, columns=max length needed to encode , layers=each one for each character\n",
        "    dtype='float32'\n",
        ")\n",
        "\n",
        "decoder_input_data = np.zeros(\n",
        "    (len(input_texts),max_decoder_sequence_length,num_decoder_tokens),\n",
        "    dtype='float32'\n",
        ")\n",
        "\n",
        "decoder_target_data = np.zeros(\n",
        "    (len(input_texts),max_decoder_sequence_length,num_decoder_tokens),\n",
        "    dtype='float32'\n",
        ")"
      ],
      "metadata": {
        "id": "ibdgagnTYfOJ"
      },
      "execution_count": null,
      "outputs": []
    },
    {
      "cell_type": "code",
      "source": [
        "encoder_input_data"
      ],
      "metadata": {
        "colab": {
          "base_uri": "https://localhost:8080/"
        },
        "id": "LGQgmdtkZTdh",
        "outputId": "5bd927ae-06e5-485a-c0e6-21d2b6d506b5"
      },
      "execution_count": null,
      "outputs": [
        {
          "output_type": "execute_result",
          "data": {
            "text/plain": [
              "array([[[0., 0., 0., ..., 0., 0., 0.],\n",
              "        [0., 0., 0., ..., 0., 0., 0.],\n",
              "        [0., 0., 0., ..., 0., 0., 0.],\n",
              "        ...,\n",
              "        [0., 0., 0., ..., 0., 0., 0.],\n",
              "        [0., 0., 0., ..., 0., 0., 0.],\n",
              "        [0., 0., 0., ..., 0., 0., 0.]],\n",
              "\n",
              "       [[0., 0., 0., ..., 0., 0., 0.],\n",
              "        [0., 0., 0., ..., 0., 0., 0.],\n",
              "        [0., 0., 0., ..., 0., 0., 0.],\n",
              "        ...,\n",
              "        [0., 0., 0., ..., 0., 0., 0.],\n",
              "        [0., 0., 0., ..., 0., 0., 0.],\n",
              "        [0., 0., 0., ..., 0., 0., 0.]],\n",
              "\n",
              "       [[0., 0., 0., ..., 0., 0., 0.],\n",
              "        [0., 0., 0., ..., 0., 0., 0.],\n",
              "        [0., 0., 0., ..., 0., 0., 0.],\n",
              "        ...,\n",
              "        [0., 0., 0., ..., 0., 0., 0.],\n",
              "        [0., 0., 0., ..., 0., 0., 0.],\n",
              "        [0., 0., 0., ..., 0., 0., 0.]],\n",
              "\n",
              "       ...,\n",
              "\n",
              "       [[0., 0., 0., ..., 0., 0., 0.],\n",
              "        [0., 0., 0., ..., 0., 0., 0.],\n",
              "        [0., 0., 0., ..., 0., 0., 0.],\n",
              "        ...,\n",
              "        [0., 0., 0., ..., 0., 0., 0.],\n",
              "        [0., 0., 0., ..., 0., 0., 0.],\n",
              "        [0., 0., 0., ..., 0., 0., 0.]],\n",
              "\n",
              "       [[0., 0., 0., ..., 0., 0., 0.],\n",
              "        [0., 0., 0., ..., 0., 0., 0.],\n",
              "        [0., 0., 0., ..., 0., 0., 0.],\n",
              "        ...,\n",
              "        [0., 0., 0., ..., 0., 0., 0.],\n",
              "        [0., 0., 0., ..., 0., 0., 0.],\n",
              "        [0., 0., 0., ..., 0., 0., 0.]],\n",
              "\n",
              "       [[0., 0., 0., ..., 0., 0., 0.],\n",
              "        [0., 0., 0., ..., 0., 0., 0.],\n",
              "        [0., 0., 0., ..., 0., 0., 0.],\n",
              "        ...,\n",
              "        [0., 0., 0., ..., 0., 0., 0.],\n",
              "        [0., 0., 0., ..., 0., 0., 0.],\n",
              "        [0., 0., 0., ..., 0., 0., 0.]]], dtype=float32)"
            ]
          },
          "metadata": {},
          "execution_count": 11
        }
      ]
    },
    {
      "cell_type": "code",
      "source": [
        "print(encoder_input_data.shape)"
      ],
      "metadata": {
        "colab": {
          "base_uri": "https://localhost:8080/"
        },
        "id": "xXoK4sD7ZOJy",
        "outputId": "0586a955-53c6-4fae-ba55-c75d971790c1"
      },
      "execution_count": null,
      "outputs": [
        {
          "output_type": "stream",
          "name": "stdout",
          "text": [
            "(10000, 15, 71)\n"
          ]
        }
      ]
    },
    {
      "cell_type": "code",
      "source": [
        "print(decoder_input_data.shape)"
      ],
      "metadata": {
        "colab": {
          "base_uri": "https://localhost:8080/"
        },
        "id": "XmO_-JPlaLOt",
        "outputId": "3db23066-a844-43c3-becc-e2092b7a4b41"
      },
      "execution_count": null,
      "outputs": [
        {
          "output_type": "stream",
          "name": "stdout",
          "text": [
            "(10000, 59, 92)\n"
          ]
        }
      ]
    },
    {
      "cell_type": "code",
      "source": [
        "print(decoder_target_data.shape)"
      ],
      "metadata": {
        "colab": {
          "base_uri": "https://localhost:8080/"
        },
        "id": "E4Vvrs0xaOYZ",
        "outputId": "97c00a49-db45-43c2-86e3-f4e761670543"
      },
      "execution_count": null,
      "outputs": [
        {
          "output_type": "stream",
          "name": "stdout",
          "text": [
            "(10000, 59, 92)\n"
          ]
        }
      ]
    },
    {
      "cell_type": "code",
      "source": [
        "for i, (input_text, target_text) in enumerate(zip(input_texts,target_texts)):\n",
        "  for t,char in enumerate(input_text):\n",
        "    encoder_input_data[i,t:,input_token_index[char]] = 1\n",
        "  encoder_input_data[i,t+1:,input_token_index[' ']] = 1\n",
        "  for t,char in enumerate(target_text):\n",
        "    decoder_input_data[i,t:,target_token_index[char]] = 1\n",
        "    if t>0:\n",
        "      decoder_target_data[i,t-1:,target_token_index[char]] = 1\n",
        "  decoder_input_data[i,t+1: ,target_token_index[' ']] = 1\n",
        "  decoder_target_data[i,t:,target_token_index[' ']] = 1"
      ],
      "metadata": {
        "id": "c7UNfpoRalTc"
      },
      "execution_count": null,
      "outputs": []
    },
    {
      "cell_type": "code",
      "source": [
        "input_token_index['G']"
      ],
      "metadata": {
        "colab": {
          "base_uri": "https://localhost:8080/"
        },
        "id": "2nHBSLTidaYz",
        "outputId": "4b8e16bf-df2b-4cb7-b06c-262bc703e2bb"
      },
      "execution_count": null,
      "outputs": [
        {
          "output_type": "execute_result",
          "data": {
            "text/plain": [
              "26"
            ]
          },
          "metadata": {},
          "execution_count": 16
        }
      ]
    },
    {
      "cell_type": "code",
      "source": [
        "encoder_input_data[0][0]"
      ],
      "metadata": {
        "colab": {
          "base_uri": "https://localhost:8080/"
        },
        "id": "UQASohgOdhQu",
        "outputId": "05226059-9989-405b-c6b4-c7aea7442581"
      },
      "execution_count": null,
      "outputs": [
        {
          "output_type": "execute_result",
          "data": {
            "text/plain": [
              "array([0., 0., 0., 0., 0., 0., 0., 0., 0., 0., 0., 0., 0., 0., 0., 0., 0.,\n",
              "       0., 0., 0., 0., 0., 0., 0., 0., 0., 1., 0., 0., 0., 0., 0., 0., 0.,\n",
              "       0., 0., 0., 0., 0., 0., 0., 0., 0., 0., 0., 0., 0., 0., 0., 0., 0.,\n",
              "       0., 0., 0., 0., 0., 0., 0., 0., 0., 0., 0., 0., 0., 0., 0., 0., 0.,\n",
              "       0., 0., 0.], dtype=float32)"
            ]
          },
          "metadata": {},
          "execution_count": 17
        }
      ]
    },
    {
      "cell_type": "code",
      "source": [
        "encoder_input_data[0][0][26] # G from 'Go' is converted to above vector"
      ],
      "metadata": {
        "colab": {
          "base_uri": "https://localhost:8080/"
        },
        "id": "2p2v9YWfdMQx",
        "outputId": "12918432-47d3-40cf-ae00-6ba92ae2137e"
      },
      "execution_count": null,
      "outputs": [
        {
          "output_type": "execute_result",
          "data": {
            "text/plain": [
              "1.0"
            ]
          },
          "metadata": {},
          "execution_count": 18
        }
      ]
    },
    {
      "cell_type": "code",
      "source": [
        "encoder_inputs = Input(shape=(None,num_encoder_tokens))\n",
        "encoder = LSTM(latent_dimension,return_state=True)\n",
        "encoder_outputs, state_h, state_c = encoder(encoder_inputs)\n",
        "encoder_states = [state_h, state_c]"
      ],
      "metadata": {
        "id": "GRw9a0TYdsiI"
      },
      "execution_count": null,
      "outputs": []
    },
    {
      "cell_type": "code",
      "source": [
        "decoder_inputs = Input(shape=(None,num_decoder_tokens))\n",
        "decoder_lstm = LSTM(latent_dimension, return_sequences=True,return_state=True)\n",
        "decoder_outputs, _, _ = decoder_lstm(decoder_inputs,initial_state=encoder_states)\n",
        "decoder_dense = Dense(num_decoder_tokens,activation='softmax')\n",
        "decoder_outputs = decoder_dense(decoder_outputs)"
      ],
      "metadata": {
        "id": "wq_xI5AceYSR"
      },
      "execution_count": null,
      "outputs": []
    },
    {
      "cell_type": "code",
      "source": [
        "model = Model([encoder_inputs, decoder_inputs] , decoder_outputs)"
      ],
      "metadata": {
        "id": "TwytEoyz2ACH"
      },
      "execution_count": null,
      "outputs": []
    },
    {
      "cell_type": "code",
      "source": [
        "model.compile(optimizer='rmsprop',loss='categorical_crossentropy', metrics = ['accuracy'])\n",
        "model.fit([encoder_input_data, decoder_input_data] ,\n",
        "          decoder_target_data,\n",
        "          batch_size = batch_s,\n",
        "          epochs = epochs,\n",
        "          validation_split = 0.2)"
      ],
      "metadata": {
        "colab": {
          "base_uri": "https://localhost:8080/"
        },
        "id": "jD9DB5mQ2PcZ",
        "outputId": "bd3b995b-11a0-4800-bbd2-e85ac14170ca"
      },
      "execution_count": null,
      "outputs": [
        {
          "output_type": "stream",
          "name": "stdout",
          "text": [
            "Epoch 1/100\n",
            "125/125 [==============================] - 53s 403ms/step - loss: 49.3891 - accuracy: 0.2090 - val_loss: 57.1404 - val_accuracy: 0.2461\n",
            "Epoch 2/100\n",
            "125/125 [==============================] - 45s 356ms/step - loss: 57.5323 - accuracy: 0.2140 - val_loss: 66.6795 - val_accuracy: 0.2489\n",
            "Epoch 3/100\n",
            "125/125 [==============================] - 44s 350ms/step - loss: 65.9868 - accuracy: 0.2151 - val_loss: 76.7105 - val_accuracy: 0.2489\n",
            "Epoch 4/100\n",
            "125/125 [==============================] - 45s 358ms/step - loss: 74.6945 - accuracy: 0.2149 - val_loss: 86.6214 - val_accuracy: 0.2488\n",
            "Epoch 5/100\n",
            "125/125 [==============================] - 43s 346ms/step - loss: 83.2935 - accuracy: 0.2147 - val_loss: 96.9463 - val_accuracy: 0.2487\n",
            "Epoch 6/100\n",
            "125/125 [==============================] - 44s 348ms/step - loss: 92.2532 - accuracy: 0.2145 - val_loss: 107.0755 - val_accuracy: 0.2474\n",
            "Epoch 7/100\n",
            "125/125 [==============================] - 43s 348ms/step - loss: 101.2305 - accuracy: 0.2131 - val_loss: 117.2260 - val_accuracy: 0.2452\n",
            "Epoch 8/100\n",
            "125/125 [==============================] - 43s 344ms/step - loss: 109.9534 - accuracy: 0.2128 - val_loss: 127.3555 - val_accuracy: 0.2444\n",
            "Epoch 9/100\n",
            "125/125 [==============================] - 43s 347ms/step - loss: 118.7949 - accuracy: 0.2121 - val_loss: 137.5840 - val_accuracy: 0.2439\n",
            "Epoch 10/100\n",
            "125/125 [==============================] - 44s 348ms/step - loss: 127.7078 - accuracy: 0.2121 - val_loss: 147.6669 - val_accuracy: 0.2437\n",
            "Epoch 11/100\n",
            "125/125 [==============================] - 43s 347ms/step - loss: 136.7054 - accuracy: 0.2118 - val_loss: 158.3360 - val_accuracy: 0.2435\n",
            "Epoch 12/100\n",
            "125/125 [==============================] - 44s 348ms/step - loss: 145.7598 - accuracy: 0.2118 - val_loss: 168.6000 - val_accuracy: 0.2435\n",
            "Epoch 13/100\n",
            "125/125 [==============================] - 44s 350ms/step - loss: 154.7889 - accuracy: 0.2118 - val_loss: 179.0992 - val_accuracy: 0.2429\n",
            "Epoch 14/100\n",
            "125/125 [==============================] - 43s 347ms/step - loss: 163.9516 - accuracy: 0.2105 - val_loss: 189.6838 - val_accuracy: 0.2412\n",
            "Epoch 15/100\n",
            "125/125 [==============================] - 44s 348ms/step - loss: 173.1522 - accuracy: 0.2109 - val_loss: 200.0793 - val_accuracy: 0.2412\n",
            "Epoch 16/100\n",
            "125/125 [==============================] - 43s 346ms/step - loss: 182.2950 - accuracy: 0.2109 - val_loss: 210.5196 - val_accuracy: 0.2412\n",
            "Epoch 17/100\n",
            "125/125 [==============================] - 43s 348ms/step - loss: 191.5539 - accuracy: 0.2109 - val_loss: 221.4447 - val_accuracy: 0.2412\n",
            "Epoch 18/100\n",
            "125/125 [==============================] - 43s 346ms/step - loss: 200.9559 - accuracy: 0.2109 - val_loss: 232.1666 - val_accuracy: 0.2412\n",
            "Epoch 19/100\n",
            "125/125 [==============================] - 44s 348ms/step - loss: 210.1429 - accuracy: 0.2109 - val_loss: 242.7456 - val_accuracy: 0.2412\n",
            "Epoch 20/100\n",
            "125/125 [==============================] - 43s 348ms/step - loss: 219.3207 - accuracy: 0.2109 - val_loss: 252.9374 - val_accuracy: 0.2412\n",
            "Epoch 21/100\n",
            "125/125 [==============================] - 43s 348ms/step - loss: 228.4228 - accuracy: 0.2109 - val_loss: 263.7418 - val_accuracy: 0.2412\n",
            "Epoch 22/100\n",
            "125/125 [==============================] - 44s 348ms/step - loss: 237.7307 - accuracy: 0.2109 - val_loss: 274.2256 - val_accuracy: 0.2412\n",
            "Epoch 23/100\n",
            "125/125 [==============================] - 43s 347ms/step - loss: 246.9328 - accuracy: 0.2109 - val_loss: 284.8978 - val_accuracy: 0.2412\n",
            "Epoch 24/100\n",
            "125/125 [==============================] - 44s 349ms/step - loss: 256.3364 - accuracy: 0.2109 - val_loss: 295.8957 - val_accuracy: 0.2412\n",
            "Epoch 25/100\n",
            "125/125 [==============================] - 43s 346ms/step - loss: 265.7972 - accuracy: 0.2109 - val_loss: 306.6597 - val_accuracy: 0.2412\n",
            "Epoch 26/100\n",
            "125/125 [==============================] - 43s 346ms/step - loss: 275.2707 - accuracy: 0.2108 - val_loss: 317.4139 - val_accuracy: 0.2412\n",
            "Epoch 27/100\n",
            "125/125 [==============================] - 43s 347ms/step - loss: 284.6560 - accuracy: 0.2109 - val_loss: 327.9230 - val_accuracy: 0.2412\n",
            "Epoch 28/100\n",
            "125/125 [==============================] - 43s 346ms/step - loss: 294.1274 - accuracy: 0.2108 - val_loss: 338.6617 - val_accuracy: 0.2412\n",
            "Epoch 29/100\n",
            "125/125 [==============================] - 44s 349ms/step - loss: 303.3354 - accuracy: 0.2108 - val_loss: 349.3724 - val_accuracy: 0.2412\n",
            "Epoch 30/100\n",
            "125/125 [==============================] - 44s 354ms/step - loss: 312.7713 - accuracy: 0.2108 - val_loss: 360.0362 - val_accuracy: 0.2412\n",
            "Epoch 31/100\n",
            "125/125 [==============================] - 44s 350ms/step - loss: 322.1266 - accuracy: 0.2107 - val_loss: 370.9200 - val_accuracy: 0.2412\n",
            "Epoch 32/100\n",
            "125/125 [==============================] - 43s 348ms/step - loss: 331.5093 - accuracy: 0.2107 - val_loss: 381.7137 - val_accuracy: 0.2412\n",
            "Epoch 33/100\n",
            "125/125 [==============================] - 43s 346ms/step - loss: 340.9686 - accuracy: 0.2106 - val_loss: 392.3105 - val_accuracy: 0.2412\n",
            "Epoch 34/100\n",
            "125/125 [==============================] - 44s 349ms/step - loss: 350.1592 - accuracy: 0.2105 - val_loss: 402.9816 - val_accuracy: 0.2412\n",
            "Epoch 35/100\n",
            "125/125 [==============================] - 43s 347ms/step - loss: 359.6391 - accuracy: 0.2105 - val_loss: 413.7022 - val_accuracy: 0.2412\n",
            "Epoch 36/100\n",
            "125/125 [==============================] - 44s 349ms/step - loss: 369.1841 - accuracy: 0.2104 - val_loss: 424.6522 - val_accuracy: 0.2412\n",
            "Epoch 37/100\n",
            "125/125 [==============================] - 44s 352ms/step - loss: 378.6213 - accuracy: 0.2103 - val_loss: 435.3884 - val_accuracy: 0.2412\n",
            "Epoch 38/100\n",
            "125/125 [==============================] - 44s 350ms/step - loss: 388.1555 - accuracy: 0.2104 - val_loss: 446.4369 - val_accuracy: 0.2412\n",
            "Epoch 39/100\n",
            "125/125 [==============================] - 44s 350ms/step - loss: 397.7959 - accuracy: 0.2103 - val_loss: 457.4568 - val_accuracy: 0.2412\n",
            "Epoch 40/100\n",
            "125/125 [==============================] - 44s 349ms/step - loss: 407.2092 - accuracy: 0.2100 - val_loss: 468.4140 - val_accuracy: 0.2412\n",
            "Epoch 41/100\n",
            "125/125 [==============================] - 44s 351ms/step - loss: 416.8439 - accuracy: 0.2101 - val_loss: 479.2159 - val_accuracy: 0.2412\n",
            "Epoch 42/100\n",
            "125/125 [==============================] - 44s 351ms/step - loss: 426.4923 - accuracy: 0.2100 - val_loss: 490.6505 - val_accuracy: 0.2412\n",
            "Epoch 43/100\n",
            "125/125 [==============================] - 44s 350ms/step - loss: 436.1685 - accuracy: 0.2098 - val_loss: 501.4059 - val_accuracy: 0.2412\n",
            "Epoch 44/100\n",
            "125/125 [==============================] - 44s 349ms/step - loss: 445.7010 - accuracy: 0.2099 - val_loss: 512.3508 - val_accuracy: 0.2412\n",
            "Epoch 45/100\n",
            "125/125 [==============================] - 44s 349ms/step - loss: 454.9961 - accuracy: 0.2096 - val_loss: 523.0860 - val_accuracy: 0.2412\n",
            "Epoch 46/100\n",
            "125/125 [==============================] - 44s 350ms/step - loss: 464.3134 - accuracy: 0.2096 - val_loss: 533.8350 - val_accuracy: 0.2412\n",
            "Epoch 47/100\n",
            "125/125 [==============================] - 43s 347ms/step - loss: 473.8895 - accuracy: 0.2093 - val_loss: 544.7162 - val_accuracy: 0.2412\n",
            "Epoch 48/100\n",
            "125/125 [==============================] - 43s 346ms/step - loss: 483.4962 - accuracy: 0.2078 - val_loss: 555.8608 - val_accuracy: 0.2412\n",
            "Epoch 49/100\n",
            "125/125 [==============================] - 43s 345ms/step - loss: 493.0506 - accuracy: 0.2060 - val_loss: 566.3278 - val_accuracy: 0.2412\n",
            "Epoch 50/100\n",
            "125/125 [==============================] - 43s 345ms/step - loss: 502.5238 - accuracy: 0.2060 - val_loss: 577.6694 - val_accuracy: 0.2412\n",
            "Epoch 51/100\n",
            "125/125 [==============================] - 44s 348ms/step - loss: 512.0538 - accuracy: 0.2060 - val_loss: 588.5936 - val_accuracy: 0.2412\n",
            "Epoch 52/100\n",
            "125/125 [==============================] - 44s 349ms/step - loss: 521.5671 - accuracy: 0.2060 - val_loss: 598.9428 - val_accuracy: 0.2412\n",
            "Epoch 53/100\n",
            "125/125 [==============================] - 44s 350ms/step - loss: 530.9241 - accuracy: 0.2060 - val_loss: 610.1989 - val_accuracy: 0.2412\n",
            "Epoch 54/100\n",
            "125/125 [==============================] - 44s 350ms/step - loss: 540.5187 - accuracy: 0.2060 - val_loss: 621.4752 - val_accuracy: 0.2412\n",
            "Epoch 55/100\n",
            "125/125 [==============================] - 44s 349ms/step - loss: 550.0433 - accuracy: 0.2060 - val_loss: 631.6855 - val_accuracy: 0.2412\n",
            "Epoch 56/100\n",
            "125/125 [==============================] - 43s 348ms/step - loss: 559.4477 - accuracy: 0.2060 - val_loss: 642.5443 - val_accuracy: 0.2412\n",
            "Epoch 57/100\n",
            "125/125 [==============================] - 43s 345ms/step - loss: 568.8658 - accuracy: 0.2060 - val_loss: 653.3612 - val_accuracy: 0.2412\n",
            "Epoch 58/100\n",
            "125/125 [==============================] - 43s 348ms/step - loss: 578.4794 - accuracy: 0.2060 - val_loss: 664.8665 - val_accuracy: 0.2412\n",
            "Epoch 59/100\n",
            "125/125 [==============================] - 44s 349ms/step - loss: 588.2450 - accuracy: 0.2060 - val_loss: 675.7513 - val_accuracy: 0.2412\n",
            "Epoch 60/100\n",
            "125/125 [==============================] - 44s 349ms/step - loss: 597.5942 - accuracy: 0.2060 - val_loss: 686.3073 - val_accuracy: 0.2412\n",
            "Epoch 61/100\n",
            "125/125 [==============================] - 44s 350ms/step - loss: 606.9510 - accuracy: 0.2060 - val_loss: 697.3165 - val_accuracy: 0.2412\n",
            "Epoch 62/100\n",
            "125/125 [==============================] - 44s 353ms/step - loss: 616.5328 - accuracy: 0.2060 - val_loss: 707.8107 - val_accuracy: 0.2412\n",
            "Epoch 63/100\n",
            "125/125 [==============================] - 44s 353ms/step - loss: 626.0328 - accuracy: 0.2060 - val_loss: 718.7562 - val_accuracy: 0.2412\n",
            "Epoch 64/100\n",
            "125/125 [==============================] - 44s 352ms/step - loss: 635.5621 - accuracy: 0.2060 - val_loss: 730.2471 - val_accuracy: 0.2412\n",
            "Epoch 65/100\n",
            "125/125 [==============================] - 45s 364ms/step - loss: 645.3217 - accuracy: 0.2060 - val_loss: 741.2274 - val_accuracy: 0.2412\n",
            "Epoch 66/100\n",
            "125/125 [==============================] - 44s 354ms/step - loss: 654.9293 - accuracy: 0.2060 - val_loss: 751.7683 - val_accuracy: 0.2412\n",
            "Epoch 67/100\n",
            "125/125 [==============================] - 45s 359ms/step - loss: 664.3618 - accuracy: 0.2060 - val_loss: 762.9738 - val_accuracy: 0.2412\n",
            "Epoch 68/100\n",
            "125/125 [==============================] - 45s 360ms/step - loss: 674.0541 - accuracy: 0.2060 - val_loss: 774.1870 - val_accuracy: 0.2412\n",
            "Epoch 69/100\n",
            "125/125 [==============================] - 45s 357ms/step - loss: 683.5876 - accuracy: 0.2060 - val_loss: 784.7039 - val_accuracy: 0.2412\n",
            "Epoch 70/100\n",
            "125/125 [==============================] - 44s 353ms/step - loss: 692.8246 - accuracy: 0.2060 - val_loss: 795.5589 - val_accuracy: 0.2412\n",
            "Epoch 71/100\n",
            "125/125 [==============================] - 44s 353ms/step - loss: 702.3928 - accuracy: 0.2060 - val_loss: 806.4086 - val_accuracy: 0.2412\n",
            "Epoch 72/100\n",
            "125/125 [==============================] - 44s 355ms/step - loss: 711.8702 - accuracy: 0.2060 - val_loss: 816.7784 - val_accuracy: 0.2412\n",
            "Epoch 73/100\n",
            "125/125 [==============================] - 44s 355ms/step - loss: 721.0336 - accuracy: 0.2060 - val_loss: 828.1010 - val_accuracy: 0.2412\n",
            "Epoch 74/100\n",
            "125/125 [==============================] - 44s 355ms/step - loss: 730.8458 - accuracy: 0.2060 - val_loss: 838.4730 - val_accuracy: 0.2412\n",
            "Epoch 75/100\n",
            "125/125 [==============================] - 45s 360ms/step - loss: 740.3185 - accuracy: 0.2060 - val_loss: 849.9122 - val_accuracy: 0.2412\n",
            "Epoch 76/100\n",
            "125/125 [==============================] - 44s 356ms/step - loss: 749.8459 - accuracy: 0.2060 - val_loss: 860.3896 - val_accuracy: 0.2412\n",
            "Epoch 77/100\n",
            "125/125 [==============================] - 45s 358ms/step - loss: 759.3084 - accuracy: 0.2060 - val_loss: 871.0862 - val_accuracy: 0.2412\n",
            "Epoch 78/100\n",
            "125/125 [==============================] - 45s 358ms/step - loss: 768.6846 - accuracy: 0.2060 - val_loss: 882.0538 - val_accuracy: 0.2412\n",
            "Epoch 79/100\n",
            "125/125 [==============================] - 45s 357ms/step - loss: 778.1654 - accuracy: 0.2060 - val_loss: 892.8392 - val_accuracy: 0.2412\n",
            "Epoch 80/100\n",
            "125/125 [==============================] - 45s 358ms/step - loss: 787.5661 - accuracy: 0.2060 - val_loss: 904.2697 - val_accuracy: 0.2412\n",
            "Epoch 81/100\n",
            "125/125 [==============================] - 44s 355ms/step - loss: 797.1542 - accuracy: 0.2060 - val_loss: 914.7736 - val_accuracy: 0.2412\n",
            "Epoch 82/100\n",
            "125/125 [==============================] - 46s 365ms/step - loss: 806.4706 - accuracy: 0.2060 - val_loss: 925.1558 - val_accuracy: 0.2412\n",
            "Epoch 83/100\n",
            "125/125 [==============================] - 45s 363ms/step - loss: 815.8777 - accuracy: 0.2060 - val_loss: 936.1478 - val_accuracy: 0.2412\n",
            "Epoch 84/100\n",
            "125/125 [==============================] - 45s 361ms/step - loss: 825.5565 - accuracy: 0.2060 - val_loss: 946.8371 - val_accuracy: 0.2412\n",
            "Epoch 85/100\n",
            "125/125 [==============================] - 45s 360ms/step - loss: 835.2062 - accuracy: 0.2060 - val_loss: 958.0368 - val_accuracy: 0.2412\n",
            "Epoch 86/100\n",
            "125/125 [==============================] - 45s 360ms/step - loss: 844.7122 - accuracy: 0.2060 - val_loss: 968.8687 - val_accuracy: 0.2412\n",
            "Epoch 87/100\n",
            "125/125 [==============================] - 45s 361ms/step - loss: 854.3108 - accuracy: 0.2060 - val_loss: 980.0377 - val_accuracy: 0.2412\n",
            "Epoch 88/100\n",
            "125/125 [==============================] - 45s 358ms/step - loss: 863.8946 - accuracy: 0.2060 - val_loss: 990.9578 - val_accuracy: 0.2412\n",
            "Epoch 89/100\n",
            "125/125 [==============================] - 45s 359ms/step - loss: 873.4389 - accuracy: 0.2060 - val_loss: 1002.1959 - val_accuracy: 0.2412\n",
            "Epoch 90/100\n",
            "125/125 [==============================] - 44s 354ms/step - loss: 883.1821 - accuracy: 0.2060 - val_loss: 1013.2663 - val_accuracy: 0.2412\n",
            "Epoch 91/100\n",
            "125/125 [==============================] - 44s 354ms/step - loss: 892.9076 - accuracy: 0.2060 - val_loss: 1024.5205 - val_accuracy: 0.2412\n",
            "Epoch 92/100\n",
            "125/125 [==============================] - 44s 356ms/step - loss: 902.5740 - accuracy: 0.2060 - val_loss: 1034.9286 - val_accuracy: 0.2412\n",
            "Epoch 93/100\n",
            "125/125 [==============================] - 44s 355ms/step - loss: 912.1092 - accuracy: 0.2060 - val_loss: 1046.5721 - val_accuracy: 0.2412\n",
            "Epoch 94/100\n",
            "125/125 [==============================] - 44s 356ms/step - loss: 921.9070 - accuracy: 0.2060 - val_loss: 1057.6876 - val_accuracy: 0.2412\n",
            "Epoch 95/100\n",
            "125/125 [==============================] - 45s 357ms/step - loss: 931.6755 - accuracy: 0.2060 - val_loss: 1068.8783 - val_accuracy: 0.2412\n",
            "Epoch 96/100\n",
            "125/125 [==============================] - 45s 357ms/step - loss: 941.2690 - accuracy: 0.2060 - val_loss: 1079.3938 - val_accuracy: 0.2412\n",
            "Epoch 97/100\n",
            "125/125 [==============================] - 44s 355ms/step - loss: 950.5712 - accuracy: 0.2060 - val_loss: 1090.2042 - val_accuracy: 0.2412\n",
            "Epoch 98/100\n",
            "125/125 [==============================] - 44s 355ms/step - loss: 960.0308 - accuracy: 0.2060 - val_loss: 1101.1549 - val_accuracy: 0.2412\n",
            "Epoch 99/100\n",
            "125/125 [==============================] - 45s 357ms/step - loss: 969.5204 - accuracy: 0.2060 - val_loss: 1112.2241 - val_accuracy: 0.2412\n",
            "Epoch 100/100\n",
            "125/125 [==============================] - 45s 360ms/step - loss: 979.2152 - accuracy: 0.2060 - val_loss: 1122.7865 - val_accuracy: 0.2412\n"
          ]
        },
        {
          "output_type": "execute_result",
          "data": {
            "text/plain": [
              "<keras.callbacks.History at 0x7f00667f87d0>"
            ]
          },
          "metadata": {},
          "execution_count": 22
        }
      ]
    },
    {
      "cell_type": "code",
      "source": [
        "model.save('seq2seq.h5')"
      ],
      "metadata": {
        "id": "lrb_bF7O2y3o"
      },
      "execution_count": null,
      "outputs": []
    }
  ]
}