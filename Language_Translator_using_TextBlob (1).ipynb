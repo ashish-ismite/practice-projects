{
  "nbformat": 4,
  "nbformat_minor": 0,
  "metadata": {
    "colab": {
      "name": "Language Translator using TextBlob.ipynb",
      "provenance": [],
      "collapsed_sections": []
    },
    "kernelspec": {
      "name": "python3",
      "display_name": "Python 3"
    },
    "language_info": {
      "name": "python"
    }
  },
  "cells": [
    {
      "cell_type": "markdown",
      "source": [
        "## Translation and Language Detection"
      ],
      "metadata": {
        "id": "7SLZBCR5GctO"
      }
    },
    {
      "cell_type": "markdown",
      "source": [
        "Textblobs can be translated between languages"
      ],
      "metadata": {
        "id": "ha7bVAX9GlXs"
      }
    },
    {
      "cell_type": "code",
      "execution_count": null,
      "metadata": {
        "id": "GkU0Mdsd8Pu6"
      },
      "outputs": [],
      "source": [
        "from textblob import TextBlob"
      ]
    },
    {
      "cell_type": "code",
      "source": [
        "blob = TextBlob(u'Good wishes to you all')\n",
        "blob.translate(to='hi')"
      ],
      "metadata": {
        "colab": {
          "base_uri": "https://localhost:8080/"
        },
        "id": "wRSNt5J6G2hP",
        "outputId": "6d44e4d3-6094-4ba7-f973-be6681c25124"
      },
      "execution_count": null,
      "outputs": [
        {
          "output_type": "execute_result",
          "data": {
            "text/plain": [
              "TextBlob(\"आप सभी को शुभकामनाएं\")"
            ]
          },
          "metadata": {},
          "execution_count": 2
        }
      ]
    },
    {
      "cell_type": "code",
      "source": [
        "blob = TextBlob(u'Good wishes to you all')\n",
        "blob.translate(from_lang='en',to='hi')"
      ],
      "metadata": {
        "colab": {
          "base_uri": "https://localhost:8080/"
        },
        "id": "QTf9193OICth",
        "outputId": "ff545157-4686-435e-ab1d-04616eadcc2f"
      },
      "execution_count": null,
      "outputs": [
        {
          "output_type": "execute_result",
          "data": {
            "text/plain": [
              "TextBlob(\"आप सभी को शुभकामनाएं\")"
            ]
          },
          "metadata": {},
          "execution_count": 15
        }
      ]
    },
    {
      "cell_type": "markdown",
      "source": [
        "If no language is specified, Textblob will attempt to detect the language. You can specify the source language explicitly.\n",
        "\n",
        "It raises **TranslatorError** if the TextBlob can not be translated into the requested language, or it raises **NotTranslated** if the translated result is the same as the input string. "
      ],
      "metadata": {
        "id": "fbDFG8jdHH7m"
      }
    },
    {
      "cell_type": "markdown",
      "source": [
        "You can also attempt to detect the language."
      ],
      "metadata": {
        "id": "gV4r6j9pJQDx"
      }
    },
    {
      "cell_type": "code",
      "source": [
        "pip install langdetect"
      ],
      "metadata": {
        "colab": {
          "base_uri": "https://localhost:8080/"
        },
        "id": "2_ojSYuNOvMm",
        "outputId": "913469a2-d564-4edf-d6a0-c8627455da4f"
      },
      "execution_count": null,
      "outputs": [
        {
          "output_type": "stream",
          "name": "stdout",
          "text": [
            "Collecting langdetect\n",
            "  Downloading langdetect-1.0.9.tar.gz (981 kB)\n",
            "\u001b[?25l\r\u001b[K     |▍                               | 10 kB 21.5 MB/s eta 0:00:01\r\u001b[K     |▊                               | 20 kB 27.2 MB/s eta 0:00:01\r\u001b[K     |█                               | 30 kB 24.8 MB/s eta 0:00:01\r\u001b[K     |█▍                              | 40 kB 18.7 MB/s eta 0:00:01\r\u001b[K     |█▊                              | 51 kB 9.4 MB/s eta 0:00:01\r\u001b[K     |██                              | 61 kB 8.0 MB/s eta 0:00:01\r\u001b[K     |██▍                             | 71 kB 8.9 MB/s eta 0:00:01\r\u001b[K     |██▊                             | 81 kB 9.8 MB/s eta 0:00:01\r\u001b[K     |███                             | 92 kB 10.5 MB/s eta 0:00:01\r\u001b[K     |███▍                            | 102 kB 8.5 MB/s eta 0:00:01\r\u001b[K     |███▊                            | 112 kB 8.5 MB/s eta 0:00:01\r\u001b[K     |████                            | 122 kB 8.5 MB/s eta 0:00:01\r\u001b[K     |████▍                           | 133 kB 8.5 MB/s eta 0:00:01\r\u001b[K     |████▊                           | 143 kB 8.5 MB/s eta 0:00:01\r\u001b[K     |█████                           | 153 kB 8.5 MB/s eta 0:00:01\r\u001b[K     |█████▍                          | 163 kB 8.5 MB/s eta 0:00:01\r\u001b[K     |█████▊                          | 174 kB 8.5 MB/s eta 0:00:01\r\u001b[K     |██████                          | 184 kB 8.5 MB/s eta 0:00:01\r\u001b[K     |██████▍                         | 194 kB 8.5 MB/s eta 0:00:01\r\u001b[K     |██████▊                         | 204 kB 8.5 MB/s eta 0:00:01\r\u001b[K     |███████                         | 215 kB 8.5 MB/s eta 0:00:01\r\u001b[K     |███████▍                        | 225 kB 8.5 MB/s eta 0:00:01\r\u001b[K     |███████▊                        | 235 kB 8.5 MB/s eta 0:00:01\r\u001b[K     |████████                        | 245 kB 8.5 MB/s eta 0:00:01\r\u001b[K     |████████▍                       | 256 kB 8.5 MB/s eta 0:00:01\r\u001b[K     |████████▊                       | 266 kB 8.5 MB/s eta 0:00:01\r\u001b[K     |█████████                       | 276 kB 8.5 MB/s eta 0:00:01\r\u001b[K     |█████████▍                      | 286 kB 8.5 MB/s eta 0:00:01\r\u001b[K     |█████████▊                      | 296 kB 8.5 MB/s eta 0:00:01\r\u001b[K     |██████████                      | 307 kB 8.5 MB/s eta 0:00:01\r\u001b[K     |██████████▍                     | 317 kB 8.5 MB/s eta 0:00:01\r\u001b[K     |██████████▊                     | 327 kB 8.5 MB/s eta 0:00:01\r\u001b[K     |███████████                     | 337 kB 8.5 MB/s eta 0:00:01\r\u001b[K     |███████████▍                    | 348 kB 8.5 MB/s eta 0:00:01\r\u001b[K     |███████████▊                    | 358 kB 8.5 MB/s eta 0:00:01\r\u001b[K     |████████████                    | 368 kB 8.5 MB/s eta 0:00:01\r\u001b[K     |████████████▍                   | 378 kB 8.5 MB/s eta 0:00:01\r\u001b[K     |████████████▊                   | 389 kB 8.5 MB/s eta 0:00:01\r\u001b[K     |█████████████                   | 399 kB 8.5 MB/s eta 0:00:01\r\u001b[K     |█████████████▍                  | 409 kB 8.5 MB/s eta 0:00:01\r\u001b[K     |█████████████▊                  | 419 kB 8.5 MB/s eta 0:00:01\r\u001b[K     |██████████████                  | 430 kB 8.5 MB/s eta 0:00:01\r\u001b[K     |██████████████▍                 | 440 kB 8.5 MB/s eta 0:00:01\r\u001b[K     |██████████████▊                 | 450 kB 8.5 MB/s eta 0:00:01\r\u001b[K     |███████████████                 | 460 kB 8.5 MB/s eta 0:00:01\r\u001b[K     |███████████████▍                | 471 kB 8.5 MB/s eta 0:00:01\r\u001b[K     |███████████████▊                | 481 kB 8.5 MB/s eta 0:00:01\r\u001b[K     |████████████████                | 491 kB 8.5 MB/s eta 0:00:01\r\u001b[K     |████████████████▍               | 501 kB 8.5 MB/s eta 0:00:01\r\u001b[K     |████████████████▊               | 512 kB 8.5 MB/s eta 0:00:01\r\u001b[K     |█████████████████               | 522 kB 8.5 MB/s eta 0:00:01\r\u001b[K     |█████████████████▍              | 532 kB 8.5 MB/s eta 0:00:01\r\u001b[K     |█████████████████▊              | 542 kB 8.5 MB/s eta 0:00:01\r\u001b[K     |██████████████████              | 552 kB 8.5 MB/s eta 0:00:01\r\u001b[K     |██████████████████▍             | 563 kB 8.5 MB/s eta 0:00:01\r\u001b[K     |██████████████████▊             | 573 kB 8.5 MB/s eta 0:00:01\r\u001b[K     |███████████████████             | 583 kB 8.5 MB/s eta 0:00:01\r\u001b[K     |███████████████████▍            | 593 kB 8.5 MB/s eta 0:00:01\r\u001b[K     |███████████████████▊            | 604 kB 8.5 MB/s eta 0:00:01\r\u001b[K     |████████████████████            | 614 kB 8.5 MB/s eta 0:00:01\r\u001b[K     |████████████████████▍           | 624 kB 8.5 MB/s eta 0:00:01\r\u001b[K     |████████████████████▊           | 634 kB 8.5 MB/s eta 0:00:01\r\u001b[K     |█████████████████████           | 645 kB 8.5 MB/s eta 0:00:01\r\u001b[K     |█████████████████████▍          | 655 kB 8.5 MB/s eta 0:00:01\r\u001b[K     |█████████████████████▊          | 665 kB 8.5 MB/s eta 0:00:01\r\u001b[K     |██████████████████████          | 675 kB 8.5 MB/s eta 0:00:01\r\u001b[K     |██████████████████████▍         | 686 kB 8.5 MB/s eta 0:00:01\r\u001b[K     |██████████████████████▊         | 696 kB 8.5 MB/s eta 0:00:01\r\u001b[K     |███████████████████████         | 706 kB 8.5 MB/s eta 0:00:01\r\u001b[K     |███████████████████████▍        | 716 kB 8.5 MB/s eta 0:00:01\r\u001b[K     |███████████████████████▊        | 727 kB 8.5 MB/s eta 0:00:01\r\u001b[K     |████████████████████████        | 737 kB 8.5 MB/s eta 0:00:01\r\u001b[K     |████████████████████████▍       | 747 kB 8.5 MB/s eta 0:00:01\r\u001b[K     |████████████████████████▊       | 757 kB 8.5 MB/s eta 0:00:01\r\u001b[K     |█████████████████████████       | 768 kB 8.5 MB/s eta 0:00:01\r\u001b[K     |█████████████████████████▍      | 778 kB 8.5 MB/s eta 0:00:01\r\u001b[K     |█████████████████████████▊      | 788 kB 8.5 MB/s eta 0:00:01\r\u001b[K     |██████████████████████████      | 798 kB 8.5 MB/s eta 0:00:01\r\u001b[K     |██████████████████████████▍     | 808 kB 8.5 MB/s eta 0:00:01\r\u001b[K     |██████████████████████████▊     | 819 kB 8.5 MB/s eta 0:00:01\r\u001b[K     |███████████████████████████     | 829 kB 8.5 MB/s eta 0:00:01\r\u001b[K     |███████████████████████████▍    | 839 kB 8.5 MB/s eta 0:00:01\r\u001b[K     |███████████████████████████▊    | 849 kB 8.5 MB/s eta 0:00:01\r\u001b[K     |████████████████████████████    | 860 kB 8.5 MB/s eta 0:00:01\r\u001b[K     |████████████████████████████▍   | 870 kB 8.5 MB/s eta 0:00:01\r\u001b[K     |████████████████████████████▊   | 880 kB 8.5 MB/s eta 0:00:01\r\u001b[K     |█████████████████████████████   | 890 kB 8.5 MB/s eta 0:00:01\r\u001b[K     |█████████████████████████████▍  | 901 kB 8.5 MB/s eta 0:00:01\r\u001b[K     |█████████████████████████████▊  | 911 kB 8.5 MB/s eta 0:00:01\r\u001b[K     |██████████████████████████████  | 921 kB 8.5 MB/s eta 0:00:01\r\u001b[K     |██████████████████████████████▍ | 931 kB 8.5 MB/s eta 0:00:01\r\u001b[K     |██████████████████████████████▊ | 942 kB 8.5 MB/s eta 0:00:01\r\u001b[K     |███████████████████████████████ | 952 kB 8.5 MB/s eta 0:00:01\r\u001b[K     |███████████████████████████████▍| 962 kB 8.5 MB/s eta 0:00:01\r\u001b[K     |███████████████████████████████▊| 972 kB 8.5 MB/s eta 0:00:01\r\u001b[K     |████████████████████████████████| 981 kB 8.5 MB/s \n",
            "\u001b[?25hRequirement already satisfied: six in /usr/local/lib/python3.7/dist-packages (from langdetect) (1.15.0)\n",
            "Building wheels for collected packages: langdetect\n",
            "  Building wheel for langdetect (setup.py) ... \u001b[?25l\u001b[?25hdone\n",
            "  Created wheel for langdetect: filename=langdetect-1.0.9-py3-none-any.whl size=993242 sha256=17a15ead3497b055126cc3815af808cf7d7d879dba05c0abfdc8767f0aeb48e3\n",
            "  Stored in directory: /root/.cache/pip/wheels/c5/96/8a/f90c59ed25d75e50a8c10a1b1c2d4c402e4dacfa87f3aff36a\n",
            "Successfully built langdetect\n",
            "Installing collected packages: langdetect\n",
            "Successfully installed langdetect-1.0.9\n"
          ]
        }
      ]
    },
    {
      "cell_type": "code",
      "source": [
        "from langdetect import detect\n",
        "detect(\"War doesn't show who's right, just who's left.\")"
      ],
      "metadata": {
        "colab": {
          "base_uri": "https://localhost:8080/",
          "height": 35
        },
        "id": "iYZ2kTTRO53j",
        "outputId": "0db09af8-4df0-4276-d969-32ea407efa34"
      },
      "execution_count": null,
      "outputs": [
        {
          "output_type": "execute_result",
          "data": {
            "application/vnd.google.colaboratory.intrinsic+json": {
              "type": "string"
            },
            "text/plain": [
              "'en'"
            ]
          },
          "metadata": {},
          "execution_count": 24
        }
      ]
    },
    {
      "cell_type": "markdown",
      "source": [
        "### Convert any language to your native language and vice versa"
      ],
      "metadata": {
        "id": "f6LioR21MZjz"
      }
    },
    {
      "cell_type": "code",
      "source": [
        "pip install SpeechRecognition"
      ],
      "metadata": {
        "colab": {
          "base_uri": "https://localhost:8080/"
        },
        "id": "iEWm9a2SMq6D",
        "outputId": "1c44a843-f7ca-49a9-dc03-b6e4afb4e5f9"
      },
      "execution_count": null,
      "outputs": [
        {
          "output_type": "stream",
          "name": "stdout",
          "text": [
            "Collecting SpeechRecognition\n",
            "  Downloading SpeechRecognition-3.8.1-py2.py3-none-any.whl (32.8 MB)\n",
            "\u001b[K     |████████████████████████████████| 32.8 MB 148 kB/s \n",
            "\u001b[?25hInstalling collected packages: SpeechRecognition\n",
            "Successfully installed SpeechRecognition-3.8.1\n"
          ]
        }
      ]
    },
    {
      "cell_type": "code",
      "source": [
        "!apt install libasound2-dev portaudio19-dev libportaudio2 libportaudiocpp0 ffmpeg"
      ],
      "metadata": {
        "colab": {
          "base_uri": "https://localhost:8080/"
        },
        "id": "fYMsW_kd77y1",
        "outputId": "d249121b-6cf4-40de-f08f-753579d9b637"
      },
      "execution_count": null,
      "outputs": [
        {
          "output_type": "stream",
          "name": "stdout",
          "text": [
            "Reading package lists... Done\n",
            "Building dependency tree       \n",
            "Reading state information... Done\n",
            "libasound2-dev is already the newest version (1.1.3-5ubuntu0.6).\n",
            "ffmpeg is already the newest version (7:3.4.8-0ubuntu0.2).\n",
            "The following packages were automatically installed and are no longer required:\n",
            "  cuda-command-line-tools-10-0 cuda-command-line-tools-10-1\n",
            "  cuda-command-line-tools-11-0 cuda-compiler-10-0 cuda-compiler-10-1\n",
            "  cuda-compiler-11-0 cuda-cuobjdump-10-0 cuda-cuobjdump-10-1\n",
            "  cuda-cuobjdump-11-0 cuda-cupti-10-0 cuda-cupti-10-1 cuda-cupti-11-0\n",
            "  cuda-cupti-dev-11-0 cuda-documentation-10-0 cuda-documentation-10-1\n",
            "  cuda-documentation-11-0 cuda-documentation-11-1 cuda-gdb-10-0 cuda-gdb-10-1\n",
            "  cuda-gdb-11-0 cuda-gpu-library-advisor-10-0 cuda-gpu-library-advisor-10-1\n",
            "  cuda-libraries-10-0 cuda-libraries-10-1 cuda-libraries-11-0\n",
            "  cuda-memcheck-10-0 cuda-memcheck-10-1 cuda-memcheck-11-0 cuda-nsight-10-0\n",
            "  cuda-nsight-10-1 cuda-nsight-11-0 cuda-nsight-11-1 cuda-nsight-compute-10-0\n",
            "  cuda-nsight-compute-10-1 cuda-nsight-compute-11-0 cuda-nsight-compute-11-1\n",
            "  cuda-nsight-systems-10-1 cuda-nsight-systems-11-0 cuda-nsight-systems-11-1\n",
            "  cuda-nvcc-10-0 cuda-nvcc-10-1 cuda-nvcc-11-0 cuda-nvdisasm-10-0\n",
            "  cuda-nvdisasm-10-1 cuda-nvdisasm-11-0 cuda-nvml-dev-10-0 cuda-nvml-dev-10-1\n",
            "  cuda-nvml-dev-11-0 cuda-nvprof-10-0 cuda-nvprof-10-1 cuda-nvprof-11-0\n",
            "  cuda-nvprune-10-0 cuda-nvprune-10-1 cuda-nvprune-11-0 cuda-nvtx-10-0\n",
            "  cuda-nvtx-10-1 cuda-nvtx-11-0 cuda-nvvp-10-0 cuda-nvvp-10-1 cuda-nvvp-11-0\n",
            "  cuda-nvvp-11-1 cuda-samples-10-0 cuda-samples-10-1 cuda-samples-11-0\n",
            "  cuda-samples-11-1 cuda-sanitizer-11-0 cuda-sanitizer-api-10-1\n",
            "  cuda-toolkit-10-0 cuda-toolkit-10-1 cuda-toolkit-11-0 cuda-toolkit-11-1\n",
            "  cuda-tools-10-0 cuda-tools-10-1 cuda-tools-11-0 cuda-tools-11-1\n",
            "  cuda-visual-tools-10-0 cuda-visual-tools-10-1 cuda-visual-tools-11-0\n",
            "  cuda-visual-tools-11-1 default-jre dkms freeglut3 freeglut3-dev\n",
            "  keyboard-configuration libargon2-0 libcap2 libcryptsetup12\n",
            "  libdevmapper1.02.1 libfontenc1 libidn11 libip4tc0 libjansson4\n",
            "  libnvidia-cfg1-510 libnvidia-common-460 libnvidia-common-510\n",
            "  libnvidia-extra-510 libnvidia-fbc1-510 libnvidia-gl-510 libpam-systemd\n",
            "  libpolkit-agent-1-0 libpolkit-backend-1-0 libpolkit-gobject-1-0 libxfont2\n",
            "  libxi-dev libxkbfile1 libxmu-dev libxmu-headers libxnvctrl0 libxtst6\n",
            "  nsight-compute-2020.2.1 nsight-compute-2022.1.0 nsight-systems-2020.3.2\n",
            "  nsight-systems-2020.3.4 nsight-systems-2021.5.2 nvidia-dkms-510\n",
            "  nvidia-kernel-common-510 nvidia-kernel-source-510 nvidia-modprobe\n",
            "  nvidia-settings openjdk-11-jre policykit-1 policykit-1-gnome python3-xkit\n",
            "  screen-resolution-extra systemd systemd-sysv udev x11-xkb-utils\n",
            "  xserver-common xserver-xorg-core-hwe-18.04 xserver-xorg-video-nvidia-510\n",
            "Use 'apt autoremove' to remove them.\n",
            "Suggested packages:\n",
            "  portaudio19-doc\n",
            "The following NEW packages will be installed:\n",
            "  libportaudio2 libportaudiocpp0 portaudio19-dev\n",
            "0 upgraded, 3 newly installed, 0 to remove and 39 not upgraded.\n",
            "Need to get 184 kB of archives.\n",
            "After this operation, 891 kB of additional disk space will be used.\n",
            "Get:1 http://archive.ubuntu.com/ubuntu bionic/universe amd64 libportaudio2 amd64 19.6.0-1 [64.6 kB]\n",
            "Get:2 http://archive.ubuntu.com/ubuntu bionic/universe amd64 libportaudiocpp0 amd64 19.6.0-1 [15.1 kB]\n",
            "Get:3 http://archive.ubuntu.com/ubuntu bionic/universe amd64 portaudio19-dev amd64 19.6.0-1 [104 kB]\n",
            "Fetched 184 kB in 1s (252 kB/s)\n",
            "Selecting previously unselected package libportaudio2:amd64.\n",
            "(Reading database ... 155113 files and directories currently installed.)\n",
            "Preparing to unpack .../libportaudio2_19.6.0-1_amd64.deb ...\n",
            "Unpacking libportaudio2:amd64 (19.6.0-1) ...\n",
            "Selecting previously unselected package libportaudiocpp0:amd64.\n",
            "Preparing to unpack .../libportaudiocpp0_19.6.0-1_amd64.deb ...\n",
            "Unpacking libportaudiocpp0:amd64 (19.6.0-1) ...\n",
            "Selecting previously unselected package portaudio19-dev:amd64.\n",
            "Preparing to unpack .../portaudio19-dev_19.6.0-1_amd64.deb ...\n",
            "Unpacking portaudio19-dev:amd64 (19.6.0-1) ...\n",
            "Setting up libportaudio2:amd64 (19.6.0-1) ...\n",
            "Setting up libportaudiocpp0:amd64 (19.6.0-1) ...\n",
            "Setting up portaudio19-dev:amd64 (19.6.0-1) ...\n",
            "Processing triggers for libc-bin (2.27-3ubuntu1.3) ...\n",
            "/sbin/ldconfig.real: /usr/local/lib/python3.7/dist-packages/ideep4py/lib/libmkldnn.so.0 is not a symbolic link\n",
            "\n"
          ]
        }
      ]
    },
    {
      "cell_type": "code",
      "source": [
        "!pip install pyaudio"
      ],
      "metadata": {
        "colab": {
          "base_uri": "https://localhost:8080/"
        },
        "id": "L4nLJM8-8Whi",
        "outputId": "757985cb-5e01-46ad-a3bf-3ed8acbe6317"
      },
      "execution_count": null,
      "outputs": [
        {
          "output_type": "stream",
          "name": "stdout",
          "text": [
            "Collecting pyaudio\n",
            "  Using cached PyAudio-0.2.11.tar.gz (37 kB)\n",
            "Building wheels for collected packages: pyaudio\n",
            "  Building wheel for pyaudio (setup.py) ... \u001b[?25l\u001b[?25hdone\n",
            "  Created wheel for pyaudio: filename=PyAudio-0.2.11-cp37-cp37m-linux_x86_64.whl size=52618 sha256=acf1cd9a639e0afaf2e624ade0366be081e15faf3582e8ffbfb9967690d1de54\n",
            "  Stored in directory: /root/.cache/pip/wheels/40/2e/4c/b71e7e96c861a46e6213bc6bb482b94dcf293a92c5e736c1ec\n",
            "Successfully built pyaudio\n",
            "Installing collected packages: pyaudio\n",
            "Successfully installed pyaudio-0.2.11\n"
          ]
        }
      ]
    },
    {
      "cell_type": "code",
      "source": [
        "import pyaudio"
      ],
      "metadata": {
        "id": "-7M0M7PY95lT"
      },
      "execution_count": null,
      "outputs": []
    },
    {
      "cell_type": "code",
      "source": [
        "pip install PyAudio‑0.2.11‑cp37‑cp37m‑win32.whl"
      ],
      "metadata": {
        "colab": {
          "base_uri": "https://localhost:8080/"
        },
        "id": "Fo3AhNwX-XTZ",
        "outputId": "827da2e0-b967-49ed-91d2-915670fa364b"
      },
      "execution_count": null,
      "outputs": [
        {
          "output_type": "stream",
          "name": "stdout",
          "text": [
            "\u001b[33mWARNING: Requirement 'PyAudio‑0.2.11‑cp37‑cp37m‑win32.whl' looks like a filename, but the file does not exist\u001b[0m\n",
            "\u001b[31mERROR: PyAudio‑0.2.11‑cp37‑cp37m‑win32.whl is not a valid wheel filename.\u001b[0m\n"
          ]
        }
      ]
    },
    {
      "cell_type": "code",
      "source": [
        "pa = pyaudio.PyAudio()\n",
        "pa.get_default_input_device_info()"
      ],
      "metadata": {
        "colab": {
          "base_uri": "https://localhost:8080/",
          "height": 304
        },
        "id": "aUJU5rU792Iu",
        "outputId": "286ef964-cd36-4bb3-aedf-05660ec03b47"
      },
      "execution_count": null,
      "outputs": [
        {
          "output_type": "error",
          "ename": "OSError",
          "evalue": "ignored",
          "traceback": [
            "\u001b[0;31m---------------------------------------------------------------------------\u001b[0m",
            "\u001b[0;31mOSError\u001b[0m                                   Traceback (most recent call last)",
            "\u001b[0;32m<ipython-input-16-127f91e3cc0b>\u001b[0m in \u001b[0;36m<module>\u001b[0;34m()\u001b[0m\n\u001b[1;32m      1\u001b[0m \u001b[0mpa\u001b[0m \u001b[0;34m=\u001b[0m \u001b[0mpyaudio\u001b[0m\u001b[0;34m.\u001b[0m\u001b[0mPyAudio\u001b[0m\u001b[0;34m(\u001b[0m\u001b[0;34m)\u001b[0m\u001b[0;34m\u001b[0m\u001b[0;34m\u001b[0m\u001b[0m\n\u001b[0;32m----> 2\u001b[0;31m \u001b[0mpa\u001b[0m\u001b[0;34m.\u001b[0m\u001b[0mget_default_input_device_info\u001b[0m\u001b[0;34m(\u001b[0m\u001b[0;34m)\u001b[0m\u001b[0;34m\u001b[0m\u001b[0;34m\u001b[0m\u001b[0m\n\u001b[0m",
            "\u001b[0;32m/usr/local/lib/python3.7/dist-packages/pyaudio.py\u001b[0m in \u001b[0;36mget_default_input_device_info\u001b[0;34m(self)\u001b[0m\n\u001b[1;32m    947\u001b[0m         \"\"\"\n\u001b[1;32m    948\u001b[0m \u001b[0;34m\u001b[0m\u001b[0m\n\u001b[0;32m--> 949\u001b[0;31m         \u001b[0mdevice_index\u001b[0m \u001b[0;34m=\u001b[0m \u001b[0mpa\u001b[0m\u001b[0;34m.\u001b[0m\u001b[0mget_default_input_device\u001b[0m\u001b[0;34m(\u001b[0m\u001b[0;34m)\u001b[0m\u001b[0;34m\u001b[0m\u001b[0;34m\u001b[0m\u001b[0m\n\u001b[0m\u001b[1;32m    950\u001b[0m         \u001b[0;32mreturn\u001b[0m \u001b[0mself\u001b[0m\u001b[0;34m.\u001b[0m\u001b[0mget_device_info_by_index\u001b[0m\u001b[0;34m(\u001b[0m\u001b[0mdevice_index\u001b[0m\u001b[0;34m)\u001b[0m\u001b[0;34m\u001b[0m\u001b[0;34m\u001b[0m\u001b[0m\n\u001b[1;32m    951\u001b[0m \u001b[0;34m\u001b[0m\u001b[0m\n",
            "\u001b[0;31mOSError\u001b[0m: No Default Input Device Available"
          ]
        }
      ]
    },
    {
      "cell_type": "code",
      "source": [
        "import speech_recognition as sr"
      ],
      "metadata": {
        "id": "fsfRpOMJMjt7"
      },
      "execution_count": null,
      "outputs": []
    },
    {
      "cell_type": "code",
      "source": [
        "r = sr.Recognizer()\n",
        "\n",
        "# Reading microphone as source\n",
        "# listening the speech and store in audio_text variable\n",
        "\n",
        "with sr.Microphone() as source:\n",
        "  print(\"Keep talking\")\n",
        "  audio_text = r.listen(source)\n",
        "  print(\"Here is your converted text below: \")\n",
        "\n",
        "  # recognize method will throw a request error if the API is unreachable, hence using exception handling\n",
        "  try:\n",
        "    # using google speech recognition\n",
        "    text = r.recognize_google(audio_text,language='en')\n",
        "    blob = TextBlob(text)\n",
        "    print(blob.translate(to='hi'))\n",
        "  except:\n",
        "    print(\"Sorry, I did not get that.\")"
      ],
      "metadata": {
        "colab": {
          "base_uri": "https://localhost:8080/",
          "height": 380
        },
        "id": "4o5VZpor5awQ",
        "outputId": "864c8aa3-254a-435e-81c1-eeb8a0dc9ef9"
      },
      "execution_count": null,
      "outputs": [
        {
          "output_type": "error",
          "ename": "OSError",
          "evalue": "ignored",
          "traceback": [
            "\u001b[0;31m---------------------------------------------------------------------------\u001b[0m",
            "\u001b[0;31mOSError\u001b[0m                                   Traceback (most recent call last)",
            "\u001b[0;32m<ipython-input-13-d6dc2cf30b7a>\u001b[0m in \u001b[0;36m<module>\u001b[0;34m()\u001b[0m\n\u001b[1;32m      4\u001b[0m \u001b[0;31m# listening the speech and store in audio_text variable\u001b[0m\u001b[0;34m\u001b[0m\u001b[0;34m\u001b[0m\u001b[0;34m\u001b[0m\u001b[0m\n\u001b[1;32m      5\u001b[0m \u001b[0;34m\u001b[0m\u001b[0m\n\u001b[0;32m----> 6\u001b[0;31m \u001b[0;32mwith\u001b[0m \u001b[0msr\u001b[0m\u001b[0;34m.\u001b[0m\u001b[0mMicrophone\u001b[0m\u001b[0;34m(\u001b[0m\u001b[0;34m)\u001b[0m \u001b[0;32mas\u001b[0m \u001b[0msource\u001b[0m\u001b[0;34m:\u001b[0m\u001b[0;34m\u001b[0m\u001b[0;34m\u001b[0m\u001b[0m\n\u001b[0m\u001b[1;32m      7\u001b[0m   \u001b[0mprint\u001b[0m\u001b[0;34m(\u001b[0m\u001b[0;34m\"Keep talking\"\u001b[0m\u001b[0;34m)\u001b[0m\u001b[0;34m\u001b[0m\u001b[0;34m\u001b[0m\u001b[0m\n\u001b[1;32m      8\u001b[0m   \u001b[0maudio_text\u001b[0m \u001b[0;34m=\u001b[0m \u001b[0mr\u001b[0m\u001b[0;34m.\u001b[0m\u001b[0mlisten\u001b[0m\u001b[0;34m(\u001b[0m\u001b[0msource\u001b[0m\u001b[0;34m)\u001b[0m\u001b[0;34m\u001b[0m\u001b[0;34m\u001b[0m\u001b[0m\n",
            "\u001b[0;32m/usr/local/lib/python3.7/dist-packages/speech_recognition/__init__.py\u001b[0m in \u001b[0;36m__init__\u001b[0;34m(self, device_index, sample_rate, chunk_size)\u001b[0m\n\u001b[1;32m     84\u001b[0m                 \u001b[0;32massert\u001b[0m \u001b[0;36m0\u001b[0m \u001b[0;34m<=\u001b[0m \u001b[0mdevice_index\u001b[0m \u001b[0;34m<\u001b[0m \u001b[0mcount\u001b[0m\u001b[0;34m,\u001b[0m \u001b[0;34m\"Device index out of range ({} devices available; device index should be between 0 and {} inclusive)\"\u001b[0m\u001b[0;34m.\u001b[0m\u001b[0mformat\u001b[0m\u001b[0;34m(\u001b[0m\u001b[0mcount\u001b[0m\u001b[0;34m,\u001b[0m \u001b[0mcount\u001b[0m \u001b[0;34m-\u001b[0m \u001b[0;36m1\u001b[0m\u001b[0;34m)\u001b[0m\u001b[0;34m\u001b[0m\u001b[0;34m\u001b[0m\u001b[0m\n\u001b[1;32m     85\u001b[0m             \u001b[0;32mif\u001b[0m \u001b[0msample_rate\u001b[0m \u001b[0;32mis\u001b[0m \u001b[0;32mNone\u001b[0m\u001b[0;34m:\u001b[0m  \u001b[0;31m# automatically set the sample rate to the hardware's default sample rate if not specified\u001b[0m\u001b[0;34m\u001b[0m\u001b[0;34m\u001b[0m\u001b[0m\n\u001b[0;32m---> 86\u001b[0;31m                 \u001b[0mdevice_info\u001b[0m \u001b[0;34m=\u001b[0m \u001b[0maudio\u001b[0m\u001b[0;34m.\u001b[0m\u001b[0mget_device_info_by_index\u001b[0m\u001b[0;34m(\u001b[0m\u001b[0mdevice_index\u001b[0m\u001b[0;34m)\u001b[0m \u001b[0;32mif\u001b[0m \u001b[0mdevice_index\u001b[0m \u001b[0;32mis\u001b[0m \u001b[0;32mnot\u001b[0m \u001b[0;32mNone\u001b[0m \u001b[0;32melse\u001b[0m \u001b[0maudio\u001b[0m\u001b[0;34m.\u001b[0m\u001b[0mget_default_input_device_info\u001b[0m\u001b[0;34m(\u001b[0m\u001b[0;34m)\u001b[0m\u001b[0;34m\u001b[0m\u001b[0;34m\u001b[0m\u001b[0m\n\u001b[0m\u001b[1;32m     87\u001b[0m                 \u001b[0;32massert\u001b[0m \u001b[0misinstance\u001b[0m\u001b[0;34m(\u001b[0m\u001b[0mdevice_info\u001b[0m\u001b[0;34m.\u001b[0m\u001b[0mget\u001b[0m\u001b[0;34m(\u001b[0m\u001b[0;34m\"defaultSampleRate\"\u001b[0m\u001b[0;34m)\u001b[0m\u001b[0;34m,\u001b[0m \u001b[0;34m(\u001b[0m\u001b[0mfloat\u001b[0m\u001b[0;34m,\u001b[0m \u001b[0mint\u001b[0m\u001b[0;34m)\u001b[0m\u001b[0;34m)\u001b[0m \u001b[0;32mand\u001b[0m \u001b[0mdevice_info\u001b[0m\u001b[0;34m[\u001b[0m\u001b[0;34m\"defaultSampleRate\"\u001b[0m\u001b[0;34m]\u001b[0m \u001b[0;34m>\u001b[0m \u001b[0;36m0\u001b[0m\u001b[0;34m,\u001b[0m \u001b[0;34m\"Invalid device info returned from PyAudio: {}\"\u001b[0m\u001b[0;34m.\u001b[0m\u001b[0mformat\u001b[0m\u001b[0;34m(\u001b[0m\u001b[0mdevice_info\u001b[0m\u001b[0;34m)\u001b[0m\u001b[0;34m\u001b[0m\u001b[0;34m\u001b[0m\u001b[0m\n\u001b[1;32m     88\u001b[0m                 \u001b[0msample_rate\u001b[0m \u001b[0;34m=\u001b[0m \u001b[0mint\u001b[0m\u001b[0;34m(\u001b[0m\u001b[0mdevice_info\u001b[0m\u001b[0;34m[\u001b[0m\u001b[0;34m\"defaultSampleRate\"\u001b[0m\u001b[0;34m]\u001b[0m\u001b[0;34m)\u001b[0m\u001b[0;34m\u001b[0m\u001b[0;34m\u001b[0m\u001b[0m\n",
            "\u001b[0;32m/usr/local/lib/python3.7/dist-packages/pyaudio.py\u001b[0m in \u001b[0;36mget_default_input_device_info\u001b[0;34m(self)\u001b[0m\n\u001b[1;32m    947\u001b[0m         \"\"\"\n\u001b[1;32m    948\u001b[0m \u001b[0;34m\u001b[0m\u001b[0m\n\u001b[0;32m--> 949\u001b[0;31m         \u001b[0mdevice_index\u001b[0m \u001b[0;34m=\u001b[0m \u001b[0mpa\u001b[0m\u001b[0;34m.\u001b[0m\u001b[0mget_default_input_device\u001b[0m\u001b[0;34m(\u001b[0m\u001b[0;34m)\u001b[0m\u001b[0;34m\u001b[0m\u001b[0;34m\u001b[0m\u001b[0m\n\u001b[0m\u001b[1;32m    950\u001b[0m         \u001b[0;32mreturn\u001b[0m \u001b[0mself\u001b[0m\u001b[0;34m.\u001b[0m\u001b[0mget_device_info_by_index\u001b[0m\u001b[0;34m(\u001b[0m\u001b[0mdevice_index\u001b[0m\u001b[0;34m)\u001b[0m\u001b[0;34m\u001b[0m\u001b[0;34m\u001b[0m\u001b[0m\n\u001b[1;32m    951\u001b[0m \u001b[0;34m\u001b[0m\u001b[0m\n",
            "\u001b[0;31mOSError\u001b[0m: No Default Input Device Available"
          ]
        }
      ]
    },
    {
      "cell_type": "code",
      "source": [
        "!pip install pipwin\n",
        "pipwin install pyaudio"
      ],
      "metadata": {
        "colab": {
          "base_uri": "https://localhost:8080/",
          "height": 130
        },
        "id": "XvLCod4m7aNL",
        "outputId": "3dc4bd8e-b0dd-4457-cefc-897599874094"
      },
      "execution_count": null,
      "outputs": [
        {
          "output_type": "error",
          "ename": "SyntaxError",
          "evalue": "ignored",
          "traceback": [
            "\u001b[0;36m  File \u001b[0;32m\"<ipython-input-8-844dbb62c441>\"\u001b[0;36m, line \u001b[0;32m2\u001b[0m\n\u001b[0;31m    pipwin install pyaudio\u001b[0m\n\u001b[0m                 ^\u001b[0m\n\u001b[0;31mSyntaxError\u001b[0m\u001b[0;31m:\u001b[0m invalid syntax\n"
          ]
        }
      ]
    }
  ]
}