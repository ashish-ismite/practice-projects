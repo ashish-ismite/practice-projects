{
  "nbformat": 4,
  "nbformat_minor": 0,
  "metadata": {
    "colab": {
      "name": "Chatbot.ipynb",
      "provenance": [],
      "collapsed_sections": []
    },
    "kernelspec": {
      "name": "python3",
      "display_name": "Python 3"
    },
    "language_info": {
      "name": "python"
    }
  },
  "cells": [
    {
      "cell_type": "markdown",
      "source": [
        "Chatbot creation depends on the end user. We have to predict what kind of user questions or discussions we will be having. \n",
        "\n",
        "So, we will create an quenstion-answer type of script keeping in mind the domain."
      ],
      "metadata": {
        "id": "MqJkcJSCss4A"
      }
    },
    {
      "cell_type": "code",
      "execution_count": null,
      "metadata": {
        "id": "vRweNOETsZa4"
      },
      "outputs": [],
      "source": [
        "from nltk.chat.util import Chat, reflections"
      ]
    },
    {
      "cell_type": "code",
      "source": [
        "# Default reflections, You can create your own reflections\n",
        "reflections"
      ],
      "metadata": {
        "colab": {
          "base_uri": "https://localhost:8080/"
        },
        "id": "fPm_CexduUmG",
        "outputId": "9e898993-7d7e-4837-c309-349560dbebf6"
      },
      "execution_count": null,
      "outputs": [
        {
          "output_type": "execute_result",
          "data": {
            "text/plain": [
              "{'i': 'you',\n",
              " 'i am': 'you are',\n",
              " 'i was': 'you were',\n",
              " \"i'd\": 'you would',\n",
              " \"i'll\": 'you will',\n",
              " \"i'm\": 'you are',\n",
              " \"i've\": 'you have',\n",
              " 'me': 'you',\n",
              " 'my': 'your',\n",
              " 'you': 'me',\n",
              " 'you are': 'I am',\n",
              " 'you were': 'I was',\n",
              " \"you'll\": 'I will',\n",
              " \"you've\": 'I have',\n",
              " 'your': 'my',\n",
              " 'yours': 'mine'}"
            ]
          },
          "metadata": {},
          "execution_count": 2
        }
      ]
    },
    {
      "cell_type": "code",
      "source": [
        "Chat"
      ],
      "metadata": {
        "colab": {
          "base_uri": "https://localhost:8080/"
        },
        "id": "fX1pDyT_uhT8",
        "outputId": "7543e615-0e61-41ab-c9ec-0815fde0ffb1"
      },
      "execution_count": null,
      "outputs": [
        {
          "output_type": "execute_result",
          "data": {
            "text/plain": [
              "nltk.chat.util.Chat"
            ]
          },
          "metadata": {},
          "execution_count": 3
        }
      ]
    },
    {
      "cell_type": "code",
      "source": [
        "# Pairs is a list of patterns and responses\n",
        "pairs = [\n",
        "      [\n",
        "       r\"(hi|hello|hola) (.*)\",\n",
        "       ['Hi']\n",
        "      ],\n",
        "      [\n",
        "       r\"(.*) plan (.*)\", # questions like \"What plans you have\" etc.etc\n",
        "       [\"We have 249 rs per month plan\"]\n",
        "      ],\n",
        "      [\n",
        "       r\"(.*) help (.*)\", # questions like \"I need help with a certain plan\"\n",
        "       [\"I can help you.\",]\n",
        "      ],\n",
        "      [\n",
        "       r\"(.*) your name?\",\n",
        "       [\"My name is x. I am a chatbot.\"]\n",
        "      ],\n",
        "      [\n",
        "       r\"how are you (.*) ?\",\n",
        "       [\"I am fine.\",\"I am good.\",\"I am cool\"]\n",
        "      ],\n",
        "      [\n",
        "       r\"(.*) sorry (.*)\",\n",
        "       [\"It's alright\",\"It's ok\"]\n",
        "      ],\n",
        "      [\n",
        "       r\"i am (good|well|okay|ok|fine)\",\n",
        "       [\"Nice to hear that\",\"Glad to hear it\"]\n",
        "      ]\n",
        "]\n"
      ],
      "metadata": {
        "id": "QRsSnxUzumaP"
      },
      "execution_count": null,
      "outputs": []
    },
    {
      "cell_type": "code",
      "source": [
        "# default message at the start of chat\n",
        "print(\"Hi, I'm x and I will help you.\\n please use lowercase english.\\n Type quit to leave\")\n",
        "# create chat bot\n",
        "chat = Chat(pairs, reflections)\n"
      ],
      "metadata": {
        "colab": {
          "base_uri": "https://localhost:8080/"
        },
        "id": "gYv8K1S7yB8m",
        "outputId": "cd7faebe-f6cf-42fd-faea-f7273d6196e5"
      },
      "execution_count": null,
      "outputs": [
        {
          "output_type": "stream",
          "name": "stdout",
          "text": [
            "Hi, I'm x and I will help you.\n",
            " please use lowercase english.\n",
            " Type quit to leave\n"
          ]
        }
      ]
    },
    {
      "cell_type": "code",
      "source": [
        "chat.converse()"
      ],
      "metadata": {
        "colab": {
          "base_uri": "https://localhost:8080/"
        },
        "id": "eEtQmJnQy9B-",
        "outputId": "c5594eda-cd85-43f8-ae24-d0c25cabab19"
      },
      "execution_count": null,
      "outputs": [
        {
          "output_type": "stream",
          "name": "stdout",
          "text": [
            ">hi\n",
            "None\n",
            ">hi .\n",
            "Hi\n",
            ">what plan do u have\n",
            "We have 249 rs per month plan\n",
            ">i need help with the plan\n",
            "I can help you.\n",
            ">quit\n",
            "None\n"
          ]
        }
      ]
    }
  ]
}